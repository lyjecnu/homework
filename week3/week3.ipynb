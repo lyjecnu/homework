{
 "cells": [
  {
   "cell_type": "code",
   "execution_count": null,
   "metadata": {},
   "outputs": [],
   "source": [
    "#T1\n",
    "print(chr(0x2605) + \"数据科学工程导论\" + chr(0x2605))"
   ]
  },
  {
   "cell_type": "code",
   "execution_count": null,
   "metadata": {},
   "outputs": [],
   "source": [
    "#T2\n",
    "x = input()\n",
    "y = input()\n",
    "z = input()\n",
    "x = int(x)\n",
    "y = int(y)\n",
    "z = int(z)\n",
    "\n",
    "my_list = [x,y,z]\n",
    "my_list.sort()\n",
    "\n",
    "for i in range(3):\n",
    "    print(my_list[i])\n",
    "\n",
    "\n"
   ]
  },
  {
   "cell_type": "code",
   "execution_count": null,
   "metadata": {},
   "outputs": [],
   "source": [
    "#T3\n",
    "w = input()\n",
    "x = input()\n",
    "y = input()\n",
    "z = input()\n",
    "\n",
    "my_list = [w,x,y,z]\n",
    "my_list.sort(reverse=True)\n",
    "\n",
    "for i in range(4):\n",
    "    print(my_list[i])"
   ]
  },
  {
   "cell_type": "code",
   "execution_count": null,
   "metadata": {},
   "outputs": [],
   "source": [
    "#T4\n",
    "for i in range(1,101):\n",
    "    if i % 2 == 1:\n",
    "        print(i)\n"
   ]
  },
  {
   "cell_type": "code",
   "execution_count": null,
   "metadata": {},
   "outputs": [],
   "source": [
    "#T5\n",
    "sum = 0\n",
    "for i in range(1,101):\n",
    "    sum = sum + i\n",
    "    \n",
    "print(sum)"
   ]
  },
  {
   "cell_type": "code",
   "execution_count": null,
   "metadata": {},
   "outputs": [],
   "source": [
    "#T6\n",
    "mylist = []\n",
    "\n",
    "x = input()\n",
    "while x != ' ':   #空格键停止\n",
    "    mylist.append(x)\n",
    "    x = input()\n",
    "    \n",
    "length = len(mylist)\n",
    "\n",
    "for i in range(length-1,-1,-1):\n",
    "    print(mylist[i])\n",
    "    "
   ]
  },
  {
   "cell_type": "code",
   "execution_count": null,
   "metadata": {},
   "outputs": [],
   "source": [
    "#T7\n",
    "str = input()\n",
    "length = len(str)\n",
    "\n",
    "res = False\n",
    "for i in range(1,length):\n",
    "    if str[i] == str[i-1]:\n",
    "        res = True\n",
    "        \n",
    "print(res)"
   ]
  },
  {
   "cell_type": "code",
   "execution_count": null,
   "metadata": {},
   "outputs": [],
   "source": [
    "#T8\n",
    "s = input()\n",
    "\n",
    "print(s.replace(\" \",\"\"))"
   ]
  },
  {
   "cell_type": "code",
   "execution_count": null,
   "metadata": {},
   "outputs": [],
   "source": [
    "#T9\n",
    "#思路：等价于求x**3 - a = 0 的根\n",
    "\n",
    "a = input()\n",
    "a = int(a)\n",
    "\n",
    "x = a/2\n",
    "\n",
    "for i in range(30):\n",
    "    next = x - (x**3 - a)/(3 * x**2)\n",
    "    x = next\n",
    "    \n",
    "print(x)"
   ]
  },
  {
   "cell_type": "code",
   "execution_count": null,
   "metadata": {},
   "outputs": [],
   "source": [
    "#T10\n",
    "n = input()\n",
    "n = int(n)\n",
    "sum = 1\n",
    "\n",
    "for i in range(1,n+1):\n",
    "    sum = sum * i\n",
    "    \n",
    "print(sum)"
   ]
  }
 ],
 "metadata": {
  "kernelspec": {
   "display_name": "Python 3",
   "language": "python",
   "name": "python3"
  },
  "language_info": {
   "codemirror_mode": {
    "name": "ipython",
    "version": 3
   },
   "file_extension": ".py",
   "mimetype": "text/x-python",
   "name": "python",
   "nbconvert_exporter": "python",
   "pygments_lexer": "ipython3",
   "version": "3.11.9"
  }
 },
 "nbformat": 4,
 "nbformat_minor": 2
}
